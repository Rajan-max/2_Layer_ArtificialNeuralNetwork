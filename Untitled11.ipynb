{
  "nbformat": 4,
  "nbformat_minor": 0,
  "metadata": {
    "colab": {
      "name": "Untitled11.ipynb",
      "provenance": [],
      "authorship_tag": "ABX9TyMNHUopbN0UGZH29hnNdAah",
      "include_colab_link": true
    },
    "kernelspec": {
      "name": "python3",
      "display_name": "Python 3"
    }
  },
  "cells": [
    {
      "cell_type": "markdown",
      "metadata": {
        "id": "view-in-github",
        "colab_type": "text"
      },
      "source": [
        "<a href=\"https://colab.research.google.com/github/czarnikhil27/2_Layer_ArtificialNeuralNetwork/blob/master/Untitled11.ipynb\" target=\"_parent\"><img src=\"https://colab.research.google.com/assets/colab-badge.svg\" alt=\"Open In Colab\"/></a>"
      ]
    },
    {
      "cell_type": "code",
      "metadata": {
        "id": "4eSLrq8soSfS",
        "colab_type": "code",
        "colab": {}
      },
      "source": [
        "# Importing the libraries\n",
        "import numpy as np\n",
        "import matplotlib.pyplot as plt\n",
        "import pandas as pd\n",
        "\n",
        "# Importing the dataset\n",
        "dataset = pd.read_csv('datasets_156197_358170_Churn_Modelling.csv')\n",
        "X = dataset.iloc[:, 3:13]\n",
        "y = dataset.iloc[:, 13]\n",
        "\n",
        "#Create dummy variables\n",
        "geography=pd.get_dummies(X[\"Geography\"],drop_first=True)\n",
        "gender=pd.get_dummies(X['Gender'],drop_first=True)\n",
        "\n",
        "## Concatenate the Data Frames\n",
        "\n",
        "X=pd.concat([X,geography,gender],axis=1)\n",
        "\n",
        "## Drop Unnecessary columns\n",
        "X=X.drop(['Geography','Gender'],axis=1)\n",
        "\n",
        "# Splitting the dataset into the Training set and Test set\n",
        "from sklearn.model_selection import train_test_split\n",
        "X_train, X_test, y_train, y_test = train_test_split(X, y, test_size = 0.2, random_state = 0)"
      ],
      "execution_count": 8,
      "outputs": []
    },
    {
      "cell_type": "code",
      "metadata": {
        "id": "lDyaycQc1oWA",
        "colab_type": "code",
        "colab": {}
      },
      "source": [
        ""
      ],
      "execution_count": 8,
      "outputs": []
    },
    {
      "cell_type": "code",
      "metadata": {
        "id": "K7KPdqVN2WCo",
        "colab_type": "code",
        "colab": {}
      },
      "source": [
        "from sklearn.preprocessing import StandardScaler"
      ],
      "execution_count": 9,
      "outputs": []
    },
    {
      "cell_type": "code",
      "metadata": {
        "id": "5mJ-bqex2sa9",
        "colab_type": "code",
        "colab": {}
      },
      "source": [
        "sc=StandardScaler()"
      ],
      "execution_count": 10,
      "outputs": []
    },
    {
      "cell_type": "code",
      "metadata": {
        "id": "AGdxt8TY2uWm",
        "colab_type": "code",
        "colab": {}
      },
      "source": [
        "X_train=sc.fit_transform(X_train)\n",
        "X_test=sc.fit_transform(X_test)"
      ],
      "execution_count": 11,
      "outputs": []
    },
    {
      "cell_type": "code",
      "metadata": {
        "id": "GOtNDX5F3F_H",
        "colab_type": "code",
        "colab": {}
      },
      "source": [
        "import keras\n",
        "from keras.models import Sequential #creates neural network.It is required in all neural network\n",
        "from keras.layers import Dense #creates hidden layers\n",
        "from keras.layers import LeakyReLU,PReLU,ELU\n",
        "from keras.layers import Dropout #dropout for choosing only required neural network"
      ],
      "execution_count": 12,
      "outputs": []
    },
    {
      "cell_type": "code",
      "metadata": {
        "id": "-vzBZTi83dKh",
        "colab_type": "code",
        "colab": {}
      },
      "source": [
        "classifier=Sequential()"
      ],
      "execution_count": 13,
      "outputs": []
    },
    {
      "cell_type": "code",
      "metadata": {
        "id": "w7D-jlUt5AFW",
        "colab_type": "code",
        "colab": {
          "base_uri": "https://localhost:8080/",
          "height": 1000
        },
        "outputId": "1926559d-0a71-4fb5-e054-1763a3fb2619"
      },
      "source": [
        "classifier.add(Dense(units=6,kernel_initializer='he_uniform',activation='relu',input_dim=11))#units =output_dimension,he_uniform works better with relu\n",
        "classifier.add(Dropout(0.3))\n",
        "classifier.add(Dense(units=6,kernel_initializer='he_uniform',activation='relu'))#units =output_dimension,he_uniform works better with relu\n",
        "#inout_dim for columns\n",
        "classifier.add(Dense(units=1,kernel_initializer='glorot_uniform',activation='sigmoid'))#units =output_dimension,he_uniform works better with relu\n",
        "classifier.compile(optimizer='Adam',loss='binary_crossentropy',metrics=['accuracy'])\n",
        "#when output is 0 or 1 binary_crossentropy is used\n",
        "model_history=classifier.fit(X_train,y_train,validation_split=0.33,batch_size=10,epochs=100)\n"
      ],
      "execution_count": 17,
      "outputs": [
        {
          "output_type": "stream",
          "text": [
            "Epoch 1/100\n",
            "536/536 [==============================] - 1s 2ms/step - loss: 0.5255 - accuracy: 0.7962 - val_loss: 0.5068 - val_accuracy: 0.7955\n",
            "Epoch 2/100\n",
            "536/536 [==============================] - 1s 1ms/step - loss: 0.5061 - accuracy: 0.7962 - val_loss: 0.5072 - val_accuracy: 0.7955\n",
            "Epoch 3/100\n",
            "536/536 [==============================] - 1s 1ms/step - loss: 0.5065 - accuracy: 0.7962 - val_loss: 0.5067 - val_accuracy: 0.7955\n",
            "Epoch 4/100\n",
            "536/536 [==============================] - 1s 1ms/step - loss: 0.5064 - accuracy: 0.7962 - val_loss: 0.5066 - val_accuracy: 0.7955\n",
            "Epoch 5/100\n",
            "536/536 [==============================] - 1s 1ms/step - loss: 0.5060 - accuracy: 0.7962 - val_loss: 0.5072 - val_accuracy: 0.7955\n",
            "Epoch 6/100\n",
            "536/536 [==============================] - 1s 1ms/step - loss: 0.5059 - accuracy: 0.7962 - val_loss: 0.5073 - val_accuracy: 0.7955\n",
            "Epoch 7/100\n",
            "536/536 [==============================] - 1s 1ms/step - loss: 0.5061 - accuracy: 0.7962 - val_loss: 0.5067 - val_accuracy: 0.7955\n",
            "Epoch 8/100\n",
            "536/536 [==============================] - 1s 2ms/step - loss: 0.5063 - accuracy: 0.7962 - val_loss: 0.5066 - val_accuracy: 0.7955\n",
            "Epoch 9/100\n",
            "536/536 [==============================] - 1s 1ms/step - loss: 0.5063 - accuracy: 0.7962 - val_loss: 0.5066 - val_accuracy: 0.7955\n",
            "Epoch 10/100\n",
            "536/536 [==============================] - 1s 1ms/step - loss: 0.5060 - accuracy: 0.7962 - val_loss: 0.5066 - val_accuracy: 0.7955\n",
            "Epoch 11/100\n",
            "536/536 [==============================] - 1s 1ms/step - loss: 0.5063 - accuracy: 0.7962 - val_loss: 0.5071 - val_accuracy: 0.7955\n",
            "Epoch 12/100\n",
            "536/536 [==============================] - 1s 1ms/step - loss: 0.5061 - accuracy: 0.7962 - val_loss: 0.5086 - val_accuracy: 0.7955\n",
            "Epoch 13/100\n",
            "536/536 [==============================] - 1s 1ms/step - loss: 0.5065 - accuracy: 0.7962 - val_loss: 0.5066 - val_accuracy: 0.7955\n",
            "Epoch 14/100\n",
            "536/536 [==============================] - 1s 1ms/step - loss: 0.5061 - accuracy: 0.7962 - val_loss: 0.5067 - val_accuracy: 0.7955\n",
            "Epoch 15/100\n",
            "536/536 [==============================] - 1s 1ms/step - loss: 0.5062 - accuracy: 0.7962 - val_loss: 0.5068 - val_accuracy: 0.7955\n",
            "Epoch 16/100\n",
            "536/536 [==============================] - 1s 1ms/step - loss: 0.5064 - accuracy: 0.7962 - val_loss: 0.5069 - val_accuracy: 0.7955\n",
            "Epoch 17/100\n",
            "536/536 [==============================] - 1s 1ms/step - loss: 0.5059 - accuracy: 0.7962 - val_loss: 0.5067 - val_accuracy: 0.7955\n",
            "Epoch 18/100\n",
            "536/536 [==============================] - 1s 2ms/step - loss: 0.5058 - accuracy: 0.7962 - val_loss: 0.5075 - val_accuracy: 0.7955\n",
            "Epoch 19/100\n",
            "536/536 [==============================] - 1s 1ms/step - loss: 0.5057 - accuracy: 0.7962 - val_loss: 0.5068 - val_accuracy: 0.7955\n",
            "Epoch 20/100\n",
            "536/536 [==============================] - 1s 2ms/step - loss: 0.5061 - accuracy: 0.7962 - val_loss: 0.5067 - val_accuracy: 0.7955\n",
            "Epoch 21/100\n",
            "536/536 [==============================] - 1s 2ms/step - loss: 0.4400 - accuracy: 0.7962 - val_loss: 0.4085 - val_accuracy: 0.7955\n",
            "Epoch 22/100\n",
            "536/536 [==============================] - 1s 1ms/step - loss: 0.3892 - accuracy: 0.7962 - val_loss: 0.3972 - val_accuracy: 0.7955\n",
            "Epoch 23/100\n",
            "536/536 [==============================] - 1s 2ms/step - loss: 0.3794 - accuracy: 0.8326 - val_loss: 0.3972 - val_accuracy: 0.8398\n",
            "Epoch 24/100\n",
            "536/536 [==============================] - 1s 1ms/step - loss: 0.3755 - accuracy: 0.8393 - val_loss: 0.3963 - val_accuracy: 0.8364\n",
            "Epoch 25/100\n",
            "536/536 [==============================] - 1s 1ms/step - loss: 0.3729 - accuracy: 0.8444 - val_loss: 0.3916 - val_accuracy: 0.8372\n",
            "Epoch 26/100\n",
            "536/536 [==============================] - 1s 1ms/step - loss: 0.3705 - accuracy: 0.8433 - val_loss: 0.3907 - val_accuracy: 0.8326\n",
            "Epoch 27/100\n",
            "536/536 [==============================] - 1s 1ms/step - loss: 0.3678 - accuracy: 0.8457 - val_loss: 0.3896 - val_accuracy: 0.8376\n",
            "Epoch 28/100\n",
            "536/536 [==============================] - 1s 1ms/step - loss: 0.3667 - accuracy: 0.8459 - val_loss: 0.3889 - val_accuracy: 0.8379\n",
            "Epoch 29/100\n",
            "536/536 [==============================] - 1s 1ms/step - loss: 0.3648 - accuracy: 0.8466 - val_loss: 0.3984 - val_accuracy: 0.8391\n",
            "Epoch 30/100\n",
            "536/536 [==============================] - 1s 1ms/step - loss: 0.3632 - accuracy: 0.8459 - val_loss: 0.3929 - val_accuracy: 0.8379\n",
            "Epoch 31/100\n",
            "536/536 [==============================] - 1s 1ms/step - loss: 0.3615 - accuracy: 0.8502 - val_loss: 0.3880 - val_accuracy: 0.8217\n",
            "Epoch 32/100\n",
            "536/536 [==============================] - 1s 1ms/step - loss: 0.3608 - accuracy: 0.8479 - val_loss: 0.3891 - val_accuracy: 0.8429\n",
            "Epoch 33/100\n",
            "536/536 [==============================] - 1s 1ms/step - loss: 0.3597 - accuracy: 0.8447 - val_loss: 0.3801 - val_accuracy: 0.8448\n",
            "Epoch 34/100\n",
            "536/536 [==============================] - 1s 1ms/step - loss: 0.3572 - accuracy: 0.8496 - val_loss: 0.3782 - val_accuracy: 0.8432\n",
            "Epoch 35/100\n",
            "536/536 [==============================] - 1s 1ms/step - loss: 0.3556 - accuracy: 0.8524 - val_loss: 0.3773 - val_accuracy: 0.8421\n",
            "Epoch 36/100\n",
            "536/536 [==============================] - 1s 2ms/step - loss: 0.3555 - accuracy: 0.8531 - val_loss: 0.3759 - val_accuracy: 0.8429\n",
            "Epoch 37/100\n",
            "536/536 [==============================] - 1s 1ms/step - loss: 0.3544 - accuracy: 0.8524 - val_loss: 0.3738 - val_accuracy: 0.8425\n",
            "Epoch 38/100\n",
            "536/536 [==============================] - 1s 1ms/step - loss: 0.3524 - accuracy: 0.8524 - val_loss: 0.3749 - val_accuracy: 0.8425\n",
            "Epoch 39/100\n",
            "536/536 [==============================] - 1s 1ms/step - loss: 0.3515 - accuracy: 0.8515 - val_loss: 0.3789 - val_accuracy: 0.8463\n",
            "Epoch 40/100\n",
            "536/536 [==============================] - 1s 1ms/step - loss: 0.3494 - accuracy: 0.8569 - val_loss: 0.3735 - val_accuracy: 0.8489\n",
            "Epoch 41/100\n",
            "536/536 [==============================] - 1s 1ms/step - loss: 0.3478 - accuracy: 0.8554 - val_loss: 0.3764 - val_accuracy: 0.8364\n",
            "Epoch 42/100\n",
            "536/536 [==============================] - 1s 1ms/step - loss: 0.3473 - accuracy: 0.8571 - val_loss: 0.3684 - val_accuracy: 0.8493\n",
            "Epoch 43/100\n",
            "536/536 [==============================] - 1s 2ms/step - loss: 0.3469 - accuracy: 0.8554 - val_loss: 0.3672 - val_accuracy: 0.8527\n",
            "Epoch 44/100\n",
            "536/536 [==============================] - 1s 2ms/step - loss: 0.3443 - accuracy: 0.8587 - val_loss: 0.3673 - val_accuracy: 0.8470\n",
            "Epoch 45/100\n",
            "536/536 [==============================] - 1s 1ms/step - loss: 0.3416 - accuracy: 0.8604 - val_loss: 0.3723 - val_accuracy: 0.8402\n",
            "Epoch 46/100\n",
            "536/536 [==============================] - 1s 1ms/step - loss: 0.3413 - accuracy: 0.8587 - val_loss: 0.3674 - val_accuracy: 0.8455\n",
            "Epoch 47/100\n",
            "536/536 [==============================] - 1s 1ms/step - loss: 0.3407 - accuracy: 0.8600 - val_loss: 0.3684 - val_accuracy: 0.8493\n",
            "Epoch 48/100\n",
            "536/536 [==============================] - 1s 1ms/step - loss: 0.3394 - accuracy: 0.8604 - val_loss: 0.3655 - val_accuracy: 0.8538\n",
            "Epoch 49/100\n",
            "536/536 [==============================] - 1s 1ms/step - loss: 0.3377 - accuracy: 0.8599 - val_loss: 0.3882 - val_accuracy: 0.8474\n",
            "Epoch 50/100\n",
            "536/536 [==============================] - 1s 1ms/step - loss: 0.3385 - accuracy: 0.8602 - val_loss: 0.3713 - val_accuracy: 0.8413\n",
            "Epoch 51/100\n",
            "536/536 [==============================] - 1s 1ms/step - loss: 0.3375 - accuracy: 0.8602 - val_loss: 0.3641 - val_accuracy: 0.8519\n",
            "Epoch 52/100\n",
            "536/536 [==============================] - 1s 1ms/step - loss: 0.3382 - accuracy: 0.8614 - val_loss: 0.3647 - val_accuracy: 0.8523\n",
            "Epoch 53/100\n",
            "536/536 [==============================] - 1s 1ms/step - loss: 0.3360 - accuracy: 0.8582 - val_loss: 0.3665 - val_accuracy: 0.8531\n",
            "Epoch 54/100\n",
            "536/536 [==============================] - 1s 1ms/step - loss: 0.3377 - accuracy: 0.8595 - val_loss: 0.3636 - val_accuracy: 0.8527\n",
            "Epoch 55/100\n",
            "536/536 [==============================] - 1s 1ms/step - loss: 0.3368 - accuracy: 0.8589 - val_loss: 0.3649 - val_accuracy: 0.8519\n",
            "Epoch 56/100\n",
            "536/536 [==============================] - 1s 2ms/step - loss: 0.3356 - accuracy: 0.8600 - val_loss: 0.3626 - val_accuracy: 0.8508\n",
            "Epoch 57/100\n",
            "536/536 [==============================] - 1s 1ms/step - loss: 0.3357 - accuracy: 0.8638 - val_loss: 0.3974 - val_accuracy: 0.8175\n",
            "Epoch 58/100\n",
            "536/536 [==============================] - 1s 2ms/step - loss: 0.3350 - accuracy: 0.8619 - val_loss: 0.3647 - val_accuracy: 0.8531\n",
            "Epoch 59/100\n",
            "536/536 [==============================] - 1s 2ms/step - loss: 0.3357 - accuracy: 0.8623 - val_loss: 0.3626 - val_accuracy: 0.8527\n",
            "Epoch 60/100\n",
            "536/536 [==============================] - 1s 2ms/step - loss: 0.3348 - accuracy: 0.8610 - val_loss: 0.3662 - val_accuracy: 0.8550\n",
            "Epoch 61/100\n",
            "536/536 [==============================] - 1s 1ms/step - loss: 0.3352 - accuracy: 0.8584 - val_loss: 0.3691 - val_accuracy: 0.8455\n",
            "Epoch 62/100\n",
            "536/536 [==============================] - 1s 2ms/step - loss: 0.3340 - accuracy: 0.8617 - val_loss: 0.3615 - val_accuracy: 0.8550\n",
            "Epoch 63/100\n",
            "536/536 [==============================] - 1s 1ms/step - loss: 0.3335 - accuracy: 0.8627 - val_loss: 0.3605 - val_accuracy: 0.8554\n",
            "Epoch 64/100\n",
            "536/536 [==============================] - 1s 1ms/step - loss: 0.3342 - accuracy: 0.8614 - val_loss: 0.3624 - val_accuracy: 0.8546\n",
            "Epoch 65/100\n",
            "536/536 [==============================] - 1s 1ms/step - loss: 0.3323 - accuracy: 0.8645 - val_loss: 0.3731 - val_accuracy: 0.8463\n",
            "Epoch 66/100\n",
            "536/536 [==============================] - 1s 2ms/step - loss: 0.3356 - accuracy: 0.8606 - val_loss: 0.3634 - val_accuracy: 0.8508\n",
            "Epoch 67/100\n",
            "536/536 [==============================] - 1s 1ms/step - loss: 0.3335 - accuracy: 0.8617 - val_loss: 0.3638 - val_accuracy: 0.8516\n",
            "Epoch 68/100\n",
            "536/536 [==============================] - 1s 1ms/step - loss: 0.3322 - accuracy: 0.8653 - val_loss: 0.3590 - val_accuracy: 0.8565\n",
            "Epoch 69/100\n",
            "536/536 [==============================] - 1s 2ms/step - loss: 0.3321 - accuracy: 0.8612 - val_loss: 0.3614 - val_accuracy: 0.8516\n",
            "Epoch 70/100\n",
            "536/536 [==============================] - 1s 1ms/step - loss: 0.3314 - accuracy: 0.8623 - val_loss: 0.3670 - val_accuracy: 0.8531\n",
            "Epoch 71/100\n",
            "536/536 [==============================] - 1s 2ms/step - loss: 0.3309 - accuracy: 0.8586 - val_loss: 0.3605 - val_accuracy: 0.8550\n",
            "Epoch 72/100\n",
            "536/536 [==============================] - 1s 1ms/step - loss: 0.3309 - accuracy: 0.8632 - val_loss: 0.3595 - val_accuracy: 0.8516\n",
            "Epoch 73/100\n",
            "536/536 [==============================] - 1s 1ms/step - loss: 0.3322 - accuracy: 0.8634 - val_loss: 0.3627 - val_accuracy: 0.8538\n",
            "Epoch 74/100\n",
            "536/536 [==============================] - 1s 2ms/step - loss: 0.3321 - accuracy: 0.8643 - val_loss: 0.3699 - val_accuracy: 0.8535\n",
            "Epoch 75/100\n",
            "536/536 [==============================] - 1s 2ms/step - loss: 0.3303 - accuracy: 0.8656 - val_loss: 0.3618 - val_accuracy: 0.8550\n",
            "Epoch 76/100\n",
            "536/536 [==============================] - 1s 1ms/step - loss: 0.3306 - accuracy: 0.8614 - val_loss: 0.3634 - val_accuracy: 0.8546\n",
            "Epoch 77/100\n",
            "536/536 [==============================] - 1s 1ms/step - loss: 0.3307 - accuracy: 0.8632 - val_loss: 0.3618 - val_accuracy: 0.8550\n",
            "Epoch 78/100\n",
            "536/536 [==============================] - 1s 1ms/step - loss: 0.3301 - accuracy: 0.8595 - val_loss: 0.3605 - val_accuracy: 0.8538\n",
            "Epoch 79/100\n",
            "536/536 [==============================] - 1s 1ms/step - loss: 0.3302 - accuracy: 0.8634 - val_loss: 0.3639 - val_accuracy: 0.8535\n",
            "Epoch 80/100\n",
            "536/536 [==============================] - 1s 1ms/step - loss: 0.3313 - accuracy: 0.8612 - val_loss: 0.3623 - val_accuracy: 0.8535\n",
            "Epoch 81/100\n",
            "536/536 [==============================] - 1s 2ms/step - loss: 0.3310 - accuracy: 0.8630 - val_loss: 0.3610 - val_accuracy: 0.8535\n",
            "Epoch 82/100\n",
            "536/536 [==============================] - 1s 2ms/step - loss: 0.3306 - accuracy: 0.8651 - val_loss: 0.3607 - val_accuracy: 0.8546\n",
            "Epoch 83/100\n",
            "536/536 [==============================] - 1s 1ms/step - loss: 0.3302 - accuracy: 0.8636 - val_loss: 0.3599 - val_accuracy: 0.8538\n",
            "Epoch 84/100\n",
            "536/536 [==============================] - 1s 1ms/step - loss: 0.3288 - accuracy: 0.8640 - val_loss: 0.3606 - val_accuracy: 0.8546\n",
            "Epoch 85/100\n",
            "536/536 [==============================] - 1s 1ms/step - loss: 0.3286 - accuracy: 0.8634 - val_loss: 0.3638 - val_accuracy: 0.8565\n",
            "Epoch 86/100\n",
            "536/536 [==============================] - 1s 1ms/step - loss: 0.3290 - accuracy: 0.8634 - val_loss: 0.3609 - val_accuracy: 0.8550\n",
            "Epoch 87/100\n",
            "536/536 [==============================] - 1s 1ms/step - loss: 0.3295 - accuracy: 0.8656 - val_loss: 0.3612 - val_accuracy: 0.8569\n",
            "Epoch 88/100\n",
            "536/536 [==============================] - 1s 1ms/step - loss: 0.3287 - accuracy: 0.8675 - val_loss: 0.3676 - val_accuracy: 0.8504\n",
            "Epoch 89/100\n",
            "536/536 [==============================] - 1s 2ms/step - loss: 0.3289 - accuracy: 0.8630 - val_loss: 0.3605 - val_accuracy: 0.8554\n",
            "Epoch 90/100\n",
            "536/536 [==============================] - 1s 1ms/step - loss: 0.3288 - accuracy: 0.8647 - val_loss: 0.3674 - val_accuracy: 0.8508\n",
            "Epoch 91/100\n",
            "536/536 [==============================] - 1s 1ms/step - loss: 0.3273 - accuracy: 0.8636 - val_loss: 0.3712 - val_accuracy: 0.8531\n",
            "Epoch 92/100\n",
            "536/536 [==============================] - 1s 1ms/step - loss: 0.3278 - accuracy: 0.8653 - val_loss: 0.3606 - val_accuracy: 0.8569\n",
            "Epoch 93/100\n",
            "536/536 [==============================] - 1s 1ms/step - loss: 0.3288 - accuracy: 0.8643 - val_loss: 0.3635 - val_accuracy: 0.8554\n",
            "Epoch 94/100\n",
            "536/536 [==============================] - 1s 1ms/step - loss: 0.3276 - accuracy: 0.8642 - val_loss: 0.3620 - val_accuracy: 0.8546\n",
            "Epoch 95/100\n",
            "536/536 [==============================] - 1s 1ms/step - loss: 0.3280 - accuracy: 0.8649 - val_loss: 0.3621 - val_accuracy: 0.8542\n",
            "Epoch 96/100\n",
            "536/536 [==============================] - 1s 1ms/step - loss: 0.3281 - accuracy: 0.8649 - val_loss: 0.3733 - val_accuracy: 0.8508\n",
            "Epoch 97/100\n",
            "536/536 [==============================] - 1s 1ms/step - loss: 0.3282 - accuracy: 0.8655 - val_loss: 0.3609 - val_accuracy: 0.8523\n",
            "Epoch 98/100\n",
            "536/536 [==============================] - 1s 1ms/step - loss: 0.3303 - accuracy: 0.8625 - val_loss: 0.3605 - val_accuracy: 0.8554\n",
            "Epoch 99/100\n",
            "536/536 [==============================] - 1s 2ms/step - loss: 0.3265 - accuracy: 0.8636 - val_loss: 0.3607 - val_accuracy: 0.8542\n",
            "Epoch 100/100\n",
            "536/536 [==============================] - 1s 1ms/step - loss: 0.3279 - accuracy: 0.8655 - val_loss: 0.3611 - val_accuracy: 0.8561\n"
          ],
          "name": "stdout"
        }
      ]
    },
    {
      "cell_type": "code",
      "metadata": {
        "id": "u7HjhF8DIo16",
        "colab_type": "code",
        "colab": {}
      },
      "source": [
        " y_pred=classifier.predict(X_test)\n",
        " from sklearn.metrics import confusion_matrix,accuracy_score"
      ],
      "execution_count": 20,
      "outputs": []
    },
    {
      "cell_type": "code",
      "metadata": {
        "id": "CzCH9A68LVIR",
        "colab_type": "code",
        "colab": {}
      },
      "source": [
        ""
      ],
      "execution_count": null,
      "outputs": []
    }
  ]
}